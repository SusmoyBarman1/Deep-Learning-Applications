{
 "cells": [
  {
   "cell_type": "code",
   "execution_count": 2,
   "metadata": {},
   "outputs": [],
   "source": [
    "import numpy as np\n",
    "import time"
   ]
  },
  {
   "cell_type": "code",
   "execution_count": 3,
   "metadata": {},
   "outputs": [],
   "source": [
    "a = np.random.rand(1000000)\n",
    "b = np.random.rand(1000000)"
   ]
  },
  {
   "cell_type": "code",
   "execution_count": 6,
   "metadata": {},
   "outputs": [
    {
     "name": "stdout",
     "output_type": "stream",
     "text": [
      "250192.3705594958\n",
      "Non-Vectorized: 461.03405952453613ms\n",
      "\n",
      "250192.37055950135\n",
      "Vectorized: 1.0018348693847656ms\n"
     ]
    }
   ],
   "source": [
    "# Non-vectorized\n",
    "start = time.time()\n",
    "c= 0\n",
    "for i in range(1000000):\n",
    "    c += a[i]*b[i]\n",
    "\n",
    "end = time.time()\n",
    "print(c)\n",
    "print(\"Non-Vectorized: \"+str((end-start)*1000)+\"ms\\n\")\n",
    "\n",
    "\n",
    "# Vectorized\n",
    "start = time.time()\n",
    "\n",
    "c = np.dot(a,b)\n",
    "\n",
    "end = time.time()\n",
    "print(c)\n",
    "print(\"Vectorized: \"+str((end-start)*1000)+\"ms\")"
   ]
  },
  {
   "cell_type": "code",
   "execution_count": 15,
   "metadata": {},
   "outputs": [
    {
     "name": "stdout",
     "output_type": "stream",
     "text": [
      "Non-Vectorized: 4394.252300262451ms\n",
      "\n",
      "Vectorized: 75.76799392700195ms\n"
     ]
    }
   ],
   "source": [
    "# Non-vectorized\n",
    "import math\n",
    "v = np.random.rand(10000000)\n",
    "\n",
    "start = time.time()\n",
    "c= np.zeros((10000000,1))\n",
    "for i in range(10000000):\n",
    "    c[i] = math.exp(v[i])\n",
    "\n",
    "end = time.time()\n",
    "print(\"Non-Vectorized: \"+str((end-start)*1000)+\"ms\\n\")\n",
    "\n",
    "# Vectorized\n",
    "\n",
    "start = time.time()\n",
    "\n",
    "c = np.exp(v)\n",
    "\n",
    "end = time.time()\n",
    "print(\"Vectorized: \"+str((end-start)*1000)+\"ms\")"
   ]
  },
  {
   "cell_type": "code",
   "execution_count": null,
   "metadata": {},
   "outputs": [],
   "source": []
  }
 ],
 "metadata": {
  "kernelspec": {
   "display_name": "Python 3",
   "language": "python",
   "name": "python3"
  },
  "language_info": {
   "codemirror_mode": {
    "name": "ipython",
    "version": 3
   },
   "file_extension": ".py",
   "mimetype": "text/x-python",
   "name": "python",
   "nbconvert_exporter": "python",
   "pygments_lexer": "ipython3",
   "version": "3.6.10"
  }
 },
 "nbformat": 4,
 "nbformat_minor": 4
}
