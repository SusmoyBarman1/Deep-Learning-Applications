{
 "cells": [
  {
   "cell_type": "code",
   "execution_count": 40,
   "metadata": {},
   "outputs": [],
   "source": [
    "import cv2 \n",
    "import os \n",
    "import numpy as np \n",
    "from random import shuffle \n",
    "from tqdm import tqdm \n",
    "import matplotlib.pyplot as plt"
   ]
  },
  {
   "cell_type": "code",
   "execution_count": 2,
   "metadata": {},
   "outputs": [],
   "source": [
    "TRAIN_DIR = 'C:/Users/SuSu/Desktop/Deep-Learning-Applications/3. Cat vs Dog using my own neural network/train'\n",
    "TEST_DIR = 'C:/Users/SuSu/Desktop/Deep-Learning-Applications/3. Cat vs Dog using my own neural network/test1'\n",
    "IMG_SIZE = 50\n",
    "LR = 1e-3"
   ]
  },
  {
   "cell_type": "code",
   "execution_count": 3,
   "metadata": {},
   "outputs": [],
   "source": [
    "MODEL_NAME = 'dogsvscats-{}-{}.model'.format(LR, 'myNN') "
   ]
  },
  {
   "cell_type": "code",
   "execution_count": 4,
   "metadata": {},
   "outputs": [],
   "source": [
    "'''Labelling the dataset'''\n",
    "def label_img(img): \n",
    "    word_label = img.split('.')[-3] \n",
    "    # DIY One hot encoder \n",
    "    if word_label == 'cat': return [1, 0] \n",
    "    elif word_label == 'dog': return [0, 1] "
   ]
  },
  {
   "cell_type": "code",
   "execution_count": 50,
   "metadata": {},
   "outputs": [],
   "source": [
    "def create_train_data(): \n",
    "    # Creating an empty list where we should store the training data \n",
    "    # after a little preprocessing of the data \n",
    "    training_data = [] \n",
    "    X_train = []\n",
    "    Y_train = []\n",
    "  \n",
    "    # tqdm is only used for interactive loading \n",
    "    # loading the training data \n",
    "    for img in tqdm(os.listdir(TRAIN_DIR)): \n",
    "  \n",
    "        # labeling the images \n",
    "        label = label_img(img) \n",
    "  \n",
    "        path = os.path.join(TRAIN_DIR, img) \n",
    "  \n",
    "        # loading the image from the path and then converting them into \n",
    "        # greyscale for easier covnet prob \n",
    "        img = cv2.imread(path) \n",
    "        \n",
    "        #plt.imshow(img)\n",
    "  \n",
    "        # resizing the image for processing them in the covnet \n",
    "        img = cv2.resize(img, (IMG_SIZE, IMG_SIZE)) \n",
    "  \n",
    "        # final step-forming the training data list with numpy array of the images \n",
    "        X_train.append(np.array(img))\n",
    "        Y_train.append(np.array(label))\n",
    "\n",
    "  \n",
    "  \n",
    "    # saving our trained data for further uses if required \n",
    "    #np.save('train_data.npy', training_data) \n",
    "    return X_train, Y_train"
   ]
  },
  {
   "cell_type": "code",
   "execution_count": 51,
   "metadata": {},
   "outputs": [
    {
     "name": "stderr",
     "output_type": "stream",
     "text": [
      "100%|███████████████████████████████████████████████████████████████████████████| 25000/25000 [00:51<00:00, 487.11it/s]\n"
     ]
    }
   ],
   "source": [
    "'''Running the training in the dataset for our model'''\n",
    "X_train, Y_train = create_train_data() "
   ]
  },
  {
   "cell_type": "code",
   "execution_count": 52,
   "metadata": {},
   "outputs": [
    {
     "data": {
      "text/plain": [
       "<matplotlib.image.AxesImage at 0x1fd0b3c3278>"
      ]
     },
     "execution_count": 52,
     "metadata": {},
     "output_type": "execute_result"
    },
    {
     "data": {
      "image/png": "[encoded data removed]",
      "text/plain": [
       "<Figure size 432x288 with 1 Axes>"
      ]
     },
     "metadata": {
      "needs_background": "light"
     },
     "output_type": "display_data"
    }
   ],
   "source": [
    "import matplotlib.pyplot as plt\n",
    "\n",
    "plt.imshow(X_train[0])"
   ]
  },
  {
   "cell_type": "code",
   "execution_count": 53,
   "metadata": {},
   "outputs": [],
   "source": [
    "X = np.array(X_train)\n",
    "Y = np.array(Y_train)\n",
    "#X_test = np.array(X_test)"
   ]
  },
  {
   "cell_type": "code",
   "execution_count": 55,
   "metadata": {},
   "outputs": [
    {
     "name": "stdout",
     "output_type": "stream",
     "text": [
      "(25000, 50, 50, 3)\n",
      "(25000, 2)\n"
     ]
    }
   ],
   "source": [
    "print(X.shape)\n",
    "print(Y.shape)"
   ]
  },
  {
   "cell_type": "code",
   "execution_count": 62,
   "metadata": {},
   "outputs": [
    {
     "name": "stdout",
     "output_type": "stream",
     "text": [
      "Total image: 25000\n",
      "Pixel size: 50*50\n",
      "Totla channel: 3\n"
     ]
    }
   ],
   "source": [
    "# Parameters\n",
    "\n",
    "m = X.shape[0]\n",
    "px = X.shape[1]\n",
    "learning_rate = 0.01\n",
    "\n",
    "print(\"Total image: %d\" %m)\n",
    "print(\"Pixel size: {}*{}\" .format(px,px))\n",
    "print(\"Totla channel: %d\" %X.shape[3])"
   ]
  },
  {
   "cell_type": "code",
   "execution_count": 64,
   "metadata": {},
   "outputs": [
    {
     "name": "stdout",
     "output_type": "stream",
     "text": [
      "7500\n"
     ]
    }
   ],
   "source": [
    "# Flatten the dataset\n",
    "A0 = X.reshape(X.shape[0], -1).T\n",
    "nx = A0.shape[0]\n",
    "print(nx)"
   ]
  },
  {
   "cell_type": "code",
   "execution_count": 172,
   "metadata": {},
   "outputs": [],
   "source": [
    "def parameter_initialize(layer_dims):\n",
    "    \n",
    "    l = len(layer_dims)\n",
    "    np.random.seed(10)\n",
    "    \n",
    "    parameters = {}\n",
    "    \n",
    "    for i in range(1, l):\n",
    "        #print(\"yes\")\n",
    "        parameters[\"W\"+str(i)] = np.random.randn(layer_dims[i], layer_dims[i-1]) * 0.01\n",
    "        parameters[\"b\"+str(i)] = np.zeros((layer_dims[i],1))\n",
    "    \n",
    "    return parameters"
   ]
  },
  {
   "cell_type": "code",
   "execution_count": 173,
   "metadata": {},
   "outputs": [
    {
     "name": "stdout",
     "output_type": "stream",
     "text": [
      "(7, 20)\n"
     ]
    }
   ],
   "source": [
    "parameter = parameter_initialize([nx, 20, 7,5,1])\n",
    "print(parameter['W2'].shape)"
   ]
  },
  {
   "cell_type": "code",
   "execution_count": 174,
   "metadata": {},
   "outputs": [],
   "source": [
    "def sigmoid_activation(z):\n",
    "    \n",
    "    a = 1/(1+np.exp(-z))\n",
    "    \n",
    "    return a"
   ]
  },
  {
   "cell_type": "code",
   "execution_count": 175,
   "metadata": {},
   "outputs": [],
   "source": [
    "def linear_forward(A_prev, W, b):\n",
    "    print(\"Shape of W: \", W.shape)\n",
    "    print(\"Shape of A_prev: \", A_prev.shape)\n",
    "    print(\"Shape of b: \", b.shape)\n",
    "        \n",
    "    z = np.dot(W, A_prev) + b\n",
    "    \n",
    "    print(\"Shape of Z: \", z.shape)\n",
    "    print()\n",
    "    \n",
    "    return z"
   ]
  },
  {
   "cell_type": "code",
   "execution_count": 176,
   "metadata": {},
   "outputs": [],
   "source": [
    "def tanh_activation(z):\n",
    "    \n",
    "    a = (np.exp(z) - np.exp(-z)) / (np.exp(z) + np.exp(-z))\n",
    "    \n",
    "    return a"
   ]
  },
  {
   "cell_type": "code",
   "execution_count": 177,
   "metadata": {},
   "outputs": [
    {
     "name": "stdout",
     "output_type": "stream",
     "text": [
      "(7500, 25000)\n",
      "(20, 7500)\n"
     ]
    }
   ],
   "source": [
    "A = {}\n",
    "A[\"A0\"] = A0\n",
    "\n",
    "print(A[\"A0\"].shape)\n",
    "print(parameter[\"W1\"].shape)"
   ]
  },
  {
   "cell_type": "code",
   "execution_count": 178,
   "metadata": {},
   "outputs": [],
   "source": [
    "def linear_forward_model(parameter, A, layer_dims=5):\n",
    "    \n",
    "    Z = {}\n",
    "    \n",
    "    # from layer 1 to l-1\n",
    "    for i in range(1, layer_dims-1):\n",
    "        print(\"\\nHidden Layer forward\\n\")\n",
    "        A_prev = A[\"A\"+str(i-1)]\n",
    "        W = parameter[\"W\"+str(i)]\n",
    "        b = parameter[\"b\"+str(i)]\n",
    "        \n",
    "        Z[\"Z\"+str(i)] = linear_forward(A_prev, W,b)\n",
    "        A[\"A\"+str(i)] = sigmoid_activation(Z[\"Z\"+str(i)])\n",
    "        \n",
    "        \n",
    "    # for layer l\n",
    "    print(\"\\nOutput Layer Forward\\n\")\n",
    "    A_prev = A[\"A\"+str(layer_dims-2)]\n",
    "    W = parameter[\"W\"+str(layer_dims-1)]\n",
    "    b = parameter[\"b\"+str(layer_dims-1)]\n",
    "    \n",
    "    Z[\"Z\"+str(layer_dims-1)] = linear_forward(A_prev, W,b)\n",
    "    A[\"A\"+str(layer_dims-1)] = sigmoid_activation(Z[\"Z\"+str(layer_dims-1)])\n",
    "    \n",
    "    return Z,A"
   ]
  },
  {
   "cell_type": "code",
   "execution_count": 179,
   "metadata": {},
   "outputs": [
    {
     "name": "stdout",
     "output_type": "stream",
     "text": [
      "\n",
      "Hidden Layer forward\n",
      "\n",
      "Shape of W:  (20, 7500)\n",
      "Shape of A_prev:  (7500, 25000)\n",
      "Shape of b:  (20, 1)\n",
      "Shape of Z:  (20, 25000)\n",
      "\n",
      "\n",
      "Hidden Layer forward\n",
      "\n",
      "Shape of W:  (7, 20)\n",
      "Shape of A_prev:  (20, 25000)\n",
      "Shape of b:  (7, 1)\n",
      "Shape of Z:  (7, 25000)\n",
      "\n",
      "\n",
      "Hidden Layer forward\n",
      "\n",
      "Shape of W:  (5, 7)\n",
      "Shape of A_prev:  (7, 25000)\n",
      "Shape of b:  (5, 1)\n",
      "Shape of Z:  (5, 25000)\n",
      "\n",
      "\n",
      "Output Layer Forward\n",
      "\n",
      "Shape of W:  (1, 5)\n",
      "Shape of A_prev:  (5, 25000)\n",
      "Shape of b:  (1, 1)\n",
      "Shape of Z:  (1, 25000)\n",
      "\n"
     ]
    }
   ],
   "source": [
    "Z, A = linear_forward_model(parameter, A)"
   ]
  },
  {
   "cell_type": "code",
   "execution_count": 182,
   "metadata": {},
   "outputs": [
    {
     "name": "stdout",
     "output_type": "stream",
     "text": [
      "-0.017465924780841375\n"
     ]
    }
   ],
   "source": [
    "print(Z[\"Z4\"][0][24000])"
   ]
  },
  {
   "cell_type": "code",
   "execution_count": 22,
   "metadata": {},
   "outputs": [],
   "source": [
    "'''Processing the given test data'''\n",
    "# Almost same as processing the training data but \n",
    "# we dont have to label it. \n",
    "def process_test_data(): \n",
    "    testing_data = [] \n",
    "    X_test = []\n",
    "    Y_test = []\n",
    "    for img in tqdm(os.listdir(TEST_DIR)): \n",
    "        path = os.path.join(TEST_DIR, img) \n",
    "        img_num = img.split('.')[0] \n",
    "        img = cv2.imread(path, cv2.IMREAD_GRAYSCALE) \n",
    "        img = cv2.resize(img, (IMG_SIZE, IMG_SIZE)) \n",
    "        \n",
    "        #testing_data.append([np.array(img), img_num]) \n",
    "        X_test.append(np.array(img))\n",
    "        Y_test.append(img_num)\n",
    "          \n",
    "    shuffle(testing_data) \n",
    "    #np.save('test_data.npy', testing_data) \n",
    "    return X_test, Y_test"
   ]
  },
  {
   "cell_type": "code",
   "execution_count": null,
   "metadata": {},
   "outputs": [],
   "source": [
    "test_data, X_test, Y_test = process_test_data() "
   ]
  }
 ],
 "metadata": {
  "kernelspec": {
   "display_name": "Python 3",
   "language": "python",
   "name": "python3"
  },
  "language_info": {
   "codemirror_mode": {
    "name": "ipython",
    "version": 3
   },
   "file_extension": ".py",
   "mimetype": "text/x-python",
   "name": "python",
   "nbconvert_exporter": "python",
   "pygments_lexer": "ipython3",
   "version": "3.6.10"
  }
 },
 "nbformat": 4,
 "nbformat_minor": 4
}
